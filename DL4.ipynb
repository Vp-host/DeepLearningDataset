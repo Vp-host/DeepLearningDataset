{
 "cells": [
  {
   "cell_type": "markdown",
   "metadata": {},
   "source": [
    "### **Student Details**\n",
    "Name: Vishal Pattar  \n",
    "Roll no: 43556  \n",
    "Class: BE AIML  \n",
    "Subject: Deep Learning for AI  \n",
    "Assignment: 4"
   ]
  },
  {
   "cell_type": "markdown",
   "metadata": {},
   "source": [
    "### **Problem Statement:**\n",
    "\n",
    "Use an Autoencoder to implement anomaly detection. Build the model by performing the following steps:\n",
    "- Import required libraries\n",
    "- Upload/access the dataset\n",
    "- The encoder converts it into a latent representation\n",
    "- Decoder networks convert it back to the original input\n",
    "- Compile the models with Optimizer, Loss, and Evaluation Metrics\n",
    "\n",
    "Use a suitable dataset such as the MNIST dataset, treating a specific digit (e.g., '0') as anomalies."
   ]
  },
  {
   "cell_type": "code",
   "execution_count": 1,
   "metadata": {},
   "outputs": [],
   "source": [
    "# Import required libraries\n",
    "import tensorflow as tf\n",
    "from tensorflow.keras.datasets import mnist\n",
    "from tensorflow.keras.models import Model, Sequential\n",
    "from tensorflow.keras.layers import Input, Dense, Flatten, Reshape\n",
    "from tensorflow.keras.optimizers import Adam\n",
    "import numpy as np\n",
    "import matplotlib.pyplot as plt"
   ]
  },
  {
   "cell_type": "code",
   "execution_count": 2,
   "metadata": {},
   "outputs": [],
   "source": [
    "# Load MNIST dataset\n",
    "(x_train, y_train), (x_test, y_test) = mnist.load_data()"
   ]
  },
  {
   "cell_type": "code",
   "execution_count": 3,
   "metadata": {},
   "outputs": [],
   "source": [
    "# Normalize and flatten the data\n",
    "x_train = x_train.astype('float32') / 255.\n",
    "x_test  = x_test.astype('float32') / 255.\n",
    "x_train = x_train.reshape((len(x_train), np.prod(x_train.shape[1:])))\n",
    "x_test  = x_test.reshape((len(x_test), np.prod(x_test.shape[1:])))"
   ]
  },
  {
   "cell_type": "code",
   "execution_count": 4,
   "metadata": {},
   "outputs": [],
   "source": [
    "# Identify normal data (digits 1-9) and anomalies (digit 0)\n",
    "normal_train = x_train[y_train != 0]\n",
    "normal_test = x_test[y_test != 0]\n",
    "anomalies_test = x_test[y_test == 0]"
   ]
  },
  {
   "cell_type": "code",
   "execution_count": 5,
   "metadata": {},
   "outputs": [],
   "source": [
    "# Define the Autoencoder architecture\n",
    "input_dim = normal_train.shape[1]\n",
    "encoding_dim = 32  # Dimension of latent space\n",
    "\n",
    "autoencoder = Sequential([\n",
    "    Dense(64, activation='relu', input_shape=(input_dim,)),\n",
    "    Dense(encoding_dim, activation='relu'),\n",
    "    Dense(64, activation='relu'),\n",
    "    Dense(input_dim, activation='sigmoid')\n",
    "])"
   ]
  },
  {
   "cell_type": "code",
   "execution_count": 6,
   "metadata": {},
   "outputs": [],
   "source": [
    "autoencoder.compile(optimizer=Adam(),\n",
    "                    loss='binary_crossentropy',\n",
    "                    metrics=['accuracy'])"
   ]
  },
  {
   "cell_type": "code",
   "execution_count": 7,
   "metadata": {},
   "outputs": [
    {
     "name": "stdout",
     "output_type": "stream",
     "text": [
      "Epoch 1/50\n",
      "212/212 [==============================] - 3s 7ms/step - loss: 0.2565 - accuracy: 0.0126 - val_loss: 0.1789 - val_accuracy: 0.0082\n",
      "Epoch 2/50\n",
      "212/212 [==============================] - 1s 6ms/step - loss: 0.1604 - accuracy: 0.0126 - val_loss: 0.1442 - val_accuracy: 0.0119\n",
      "Epoch 3/50\n",
      "212/212 [==============================] - 2s 8ms/step - loss: 0.1364 - accuracy: 0.0141 - val_loss: 0.1278 - val_accuracy: 0.0139\n",
      "Epoch 4/50\n",
      "212/212 [==============================] - 2s 8ms/step - loss: 0.1252 - accuracy: 0.0131 - val_loss: 0.1191 - val_accuracy: 0.0131\n",
      "Epoch 5/50\n",
      "212/212 [==============================] - 1s 6ms/step - loss: 0.1174 - accuracy: 0.0113 - val_loss: 0.1129 - val_accuracy: 0.0123\n",
      "Epoch 6/50\n",
      "212/212 [==============================] - 1s 6ms/step - loss: 0.1127 - accuracy: 0.0115 - val_loss: 0.1095 - val_accuracy: 0.0164\n",
      "Epoch 7/50\n",
      "212/212 [==============================] - 2s 8ms/step - loss: 0.1097 - accuracy: 0.0109 - val_loss: 0.1069 - val_accuracy: 0.0137\n",
      "Epoch 8/50\n",
      "212/212 [==============================] - 2s 7ms/step - loss: 0.1070 - accuracy: 0.0117 - val_loss: 0.1044 - val_accuracy: 0.0130\n",
      "Epoch 9/50\n",
      "212/212 [==============================] - 1s 7ms/step - loss: 0.1048 - accuracy: 0.0117 - val_loss: 0.1028 - val_accuracy: 0.0142\n",
      "Epoch 10/50\n",
      "212/212 [==============================] - 2s 9ms/step - loss: 0.1031 - accuracy: 0.0117 - val_loss: 0.1012 - val_accuracy: 0.0139\n",
      "Epoch 11/50\n",
      "212/212 [==============================] - 2s 8ms/step - loss: 0.1017 - accuracy: 0.0125 - val_loss: 0.0996 - val_accuracy: 0.0149\n",
      "Epoch 12/50\n",
      "212/212 [==============================] - 1s 7ms/step - loss: 0.1003 - accuracy: 0.0124 - val_loss: 0.0985 - val_accuracy: 0.0151\n",
      "Epoch 13/50\n",
      "212/212 [==============================] - 2s 8ms/step - loss: 0.0992 - accuracy: 0.0131 - val_loss: 0.0972 - val_accuracy: 0.0172\n",
      "Epoch 14/50\n",
      "212/212 [==============================] - 1s 7ms/step - loss: 0.0981 - accuracy: 0.0135 - val_loss: 0.0966 - val_accuracy: 0.0152\n",
      "Epoch 15/50\n",
      "212/212 [==============================] - 1s 6ms/step - loss: 0.0971 - accuracy: 0.0146 - val_loss: 0.0953 - val_accuracy: 0.0161\n",
      "Epoch 16/50\n",
      "212/212 [==============================] - 2s 8ms/step - loss: 0.0962 - accuracy: 0.0146 - val_loss: 0.0947 - val_accuracy: 0.0171\n",
      "Epoch 17/50\n",
      "212/212 [==============================] - 1s 5ms/step - loss: 0.0953 - accuracy: 0.0146 - val_loss: 0.0937 - val_accuracy: 0.0163\n",
      "Epoch 18/50\n",
      "212/212 [==============================] - 1s 6ms/step - loss: 0.0945 - accuracy: 0.0145 - val_loss: 0.0930 - val_accuracy: 0.0150\n",
      "Epoch 19/50\n",
      "212/212 [==============================] - 2s 8ms/step - loss: 0.0938 - accuracy: 0.0148 - val_loss: 0.0924 - val_accuracy: 0.0156\n",
      "Epoch 20/50\n",
      "212/212 [==============================] - 2s 7ms/step - loss: 0.0932 - accuracy: 0.0151 - val_loss: 0.0919 - val_accuracy: 0.0144\n",
      "Epoch 21/50\n",
      "212/212 [==============================] - 1s 7ms/step - loss: 0.0927 - accuracy: 0.0156 - val_loss: 0.0915 - val_accuracy: 0.0167\n",
      "Epoch 22/50\n",
      "212/212 [==============================] - 1s 7ms/step - loss: 0.0923 - accuracy: 0.0160 - val_loss: 0.0912 - val_accuracy: 0.0151\n",
      "Epoch 23/50\n",
      "212/212 [==============================] - 2s 8ms/step - loss: 0.0919 - accuracy: 0.0155 - val_loss: 0.0911 - val_accuracy: 0.0153\n",
      "Epoch 24/50\n",
      "212/212 [==============================] - 2s 7ms/step - loss: 0.0916 - accuracy: 0.0156 - val_loss: 0.0904 - val_accuracy: 0.0143\n",
      "Epoch 25/50\n",
      "212/212 [==============================] - 2s 8ms/step - loss: 0.0913 - accuracy: 0.0159 - val_loss: 0.0904 - val_accuracy: 0.0140\n",
      "Epoch 26/50\n",
      "212/212 [==============================] - 1s 7ms/step - loss: 0.0911 - accuracy: 0.0154 - val_loss: 0.0902 - val_accuracy: 0.0136\n",
      "Epoch 27/50\n",
      "212/212 [==============================] - 2s 7ms/step - loss: 0.0908 - accuracy: 0.0153 - val_loss: 0.0897 - val_accuracy: 0.0135\n",
      "Epoch 28/50\n",
      "212/212 [==============================] - 2s 8ms/step - loss: 0.0906 - accuracy: 0.0152 - val_loss: 0.0897 - val_accuracy: 0.0141\n",
      "Epoch 29/50\n",
      "212/212 [==============================] - 1s 7ms/step - loss: 0.0903 - accuracy: 0.0146 - val_loss: 0.0895 - val_accuracy: 0.0124\n",
      "Epoch 30/50\n",
      "212/212 [==============================] - 2s 8ms/step - loss: 0.0900 - accuracy: 0.0149 - val_loss: 0.0892 - val_accuracy: 0.0121\n",
      "Epoch 31/50\n",
      "212/212 [==============================] - 1s 6ms/step - loss: 0.0898 - accuracy: 0.0149 - val_loss: 0.0890 - val_accuracy: 0.0150\n",
      "Epoch 32/50\n",
      "212/212 [==============================] - 2s 8ms/step - loss: 0.0895 - accuracy: 0.0144 - val_loss: 0.0886 - val_accuracy: 0.0134\n",
      "Epoch 33/50\n",
      "212/212 [==============================] - 2s 8ms/step - loss: 0.0892 - accuracy: 0.0144 - val_loss: 0.0885 - val_accuracy: 0.0147\n",
      "Epoch 34/50\n",
      "212/212 [==============================] - 1s 7ms/step - loss: 0.0890 - accuracy: 0.0139 - val_loss: 0.0880 - val_accuracy: 0.0159\n",
      "Epoch 35/50\n",
      "212/212 [==============================] - 2s 7ms/step - loss: 0.0888 - accuracy: 0.0145 - val_loss: 0.0877 - val_accuracy: 0.0142\n",
      "Epoch 36/50\n",
      "212/212 [==============================] - 2s 8ms/step - loss: 0.0885 - accuracy: 0.0145 - val_loss: 0.0876 - val_accuracy: 0.0154\n",
      "Epoch 37/50\n",
      "212/212 [==============================] - 2s 8ms/step - loss: 0.0883 - accuracy: 0.0140 - val_loss: 0.0877 - val_accuracy: 0.0146\n",
      "Epoch 38/50\n",
      "212/212 [==============================] - 2s 7ms/step - loss: 0.0881 - accuracy: 0.0144 - val_loss: 0.0874 - val_accuracy: 0.0134\n",
      "Epoch 39/50\n",
      "212/212 [==============================] - 1s 5ms/step - loss: 0.0880 - accuracy: 0.0138 - val_loss: 0.0872 - val_accuracy: 0.0145\n",
      "Epoch 40/50\n",
      "212/212 [==============================] - 1s 6ms/step - loss: 0.0879 - accuracy: 0.0142 - val_loss: 0.0872 - val_accuracy: 0.0143\n",
      "Epoch 41/50\n",
      "212/212 [==============================] - 2s 8ms/step - loss: 0.0877 - accuracy: 0.0135 - val_loss: 0.0870 - val_accuracy: 0.0140\n",
      "Epoch 42/50\n",
      "212/212 [==============================] - 2s 8ms/step - loss: 0.0877 - accuracy: 0.0139 - val_loss: 0.0871 - val_accuracy: 0.0143\n",
      "Epoch 43/50\n",
      "212/212 [==============================] - 2s 7ms/step - loss: 0.0875 - accuracy: 0.0140 - val_loss: 0.0870 - val_accuracy: 0.0139\n",
      "Epoch 44/50\n",
      "212/212 [==============================] - 1s 5ms/step - loss: 0.0874 - accuracy: 0.0143 - val_loss: 0.0866 - val_accuracy: 0.0143\n",
      "Epoch 45/50\n",
      "212/212 [==============================] - 2s 7ms/step - loss: 0.0874 - accuracy: 0.0137 - val_loss: 0.0866 - val_accuracy: 0.0145\n",
      "Epoch 46/50\n",
      "212/212 [==============================] - 2s 8ms/step - loss: 0.0873 - accuracy: 0.0136 - val_loss: 0.0864 - val_accuracy: 0.0140\n",
      "Epoch 47/50\n",
      "212/212 [==============================] - 1s 7ms/step - loss: 0.0872 - accuracy: 0.0140 - val_loss: 0.0867 - val_accuracy: 0.0127\n",
      "Epoch 48/50\n",
      "212/212 [==============================] - 1s 6ms/step - loss: 0.0871 - accuracy: 0.0138 - val_loss: 0.0864 - val_accuracy: 0.0141\n",
      "Epoch 49/50\n",
      "212/212 [==============================] - 1s 5ms/step - loss: 0.0870 - accuracy: 0.0137 - val_loss: 0.0864 - val_accuracy: 0.0131\n",
      "Epoch 50/50\n",
      "212/212 [==============================] - 2s 7ms/step - loss: 0.0870 - accuracy: 0.0140 - val_loss: 0.0863 - val_accuracy: 0.0141\n"
     ]
    }
   ],
   "source": [
    "history = autoencoder.fit(normal_train, normal_train,\n",
    "                          epochs=50,\n",
    "                          batch_size=256,\n",
    "                          shuffle=True,\n",
    "                          validation_data=(normal_test, normal_test))"
   ]
  },
  {
   "cell_type": "code",
   "execution_count": 8,
   "metadata": {},
   "outputs": [
    {
     "name": "stdout",
     "output_type": "stream",
     "text": [
      "282/282 [==============================] - 1s 3ms/step\n"
     ]
    }
   ],
   "source": [
    "# Compute reconstruction loss on test data\n",
    "reconstructions = autoencoder.predict(normal_test)\n",
    "mse = np.mean(np.power(normal_test - reconstructions, 2), axis=1)"
   ]
  },
  {
   "cell_type": "code",
   "execution_count": 9,
   "metadata": {},
   "outputs": [
    {
     "name": "stdout",
     "output_type": "stream",
     "text": [
      "31/31 [==============================] - 0s 4ms/step\n"
     ]
    }
   ],
   "source": [
    "# Compute reconstruction loss on anomalies\n",
    "reconstructions_anomaly = autoencoder.predict(anomalies_test)\n",
    "mse_anomaly = np.mean(np.power(anomalies_test - reconstructions_anomaly, 2), axis=1)"
   ]
  },
  {
   "cell_type": "code",
   "execution_count": 10,
   "metadata": {},
   "outputs": [
    {
     "data": {
      "image/png": "[encoded data removed]",
      "text/plain": [
       "<Figure size 1000x600 with 1 Axes>"
      ]
     },
     "metadata": {},
     "output_type": "display_data"
    }
   ],
   "source": [
    "# Plot the distribution of reconstruction errors\n",
    "plt.figure(figsize=(10,6))\n",
    "plt.hist(mse, bins=50, alpha=0.6, label='Normal')\n",
    "plt.hist(mse_anomaly, bins=50, alpha=0.6, label='Anomaly')\n",
    "plt.xlabel('Reconstruction error')\n",
    "plt.ylabel('Number of samples')\n",
    "plt.legend()\n",
    "plt.show()"
   ]
  },
  {
   "cell_type": "code",
   "execution_count": 11,
   "metadata": {},
   "outputs": [
    {
     "name": "stdout",
     "output_type": "stream",
     "text": [
      "Anomaly Detection Threshold: 0.018096868414431807\n"
     ]
    }
   ],
   "source": [
    "# Set a threshold for anomaly detection\n",
    "threshold = np.percentile(mse, 95)\n",
    "print(f'Anomaly Detection Threshold: {threshold}')"
   ]
  },
  {
   "cell_type": "code",
   "execution_count": 12,
   "metadata": {},
   "outputs": [],
   "source": [
    "# Predict anomalies\n",
    "predictions = np.concatenate([mse, mse_anomaly])\n",
    "labels = np.concatenate([np.zeros(len(mse)), np.ones(len(mse_anomaly))])"
   ]
  },
  {
   "cell_type": "code",
   "execution_count": 13,
   "metadata": {},
   "outputs": [
    {
     "name": "stdout",
     "output_type": "stream",
     "text": [
      "Precision: 0.4218\n",
      "Recall: 0.3357\n",
      "F1 Score: 0.3739\n"
     ]
    }
   ],
   "source": [
    "# Compute metrics\n",
    "from sklearn.metrics import precision_score, recall_score, f1_score\n",
    "\n",
    "y_pred = (predictions > threshold).astype(int)\n",
    "precision = precision_score(labels, y_pred)\n",
    "recall    = recall_score(labels, y_pred)\n",
    "f1        = f1_score(labels, y_pred)\n",
    "\n",
    "print(f'Precision: {precision:.4f}')\n",
    "print(f'Recall: {recall:.4f}')\n",
    "print(f'F1 Score: {f1:.4f}')"
   ]
  },
  {
   "cell_type": "code",
   "execution_count": null,
   "metadata": {},
   "outputs": [],
   "source": []
  }
 ],
 "metadata": {
  "kernelspec": {
   "display_name": "Python 3",
   "language": "python",
   "name": "python3"
  },
  "language_info": {
   "codemirror_mode": {
    "name": "ipython",
    "version": 3
   },
   "file_extension": ".py",
   "mimetype": "text/x-python",
   "name": "python",
   "nbconvert_exporter": "python",
   "pygments_lexer": "ipython3",
   "version": "3.11.5"
  }
 },
 "nbformat": 4,
 "nbformat_minor": 2
}
